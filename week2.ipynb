{
 "cells": [
  {
   "cell_type": "markdown",
   "metadata": {},
   "source": [
    "# Week 2: Data Preparation\n",
    "\n",
    "### What's on this week\n",
    "1. [Resuming from week 1](#resume)\n",
    "2. [Exploring data](#explore)\n",
    "3. [Modifying and correcting data](#moddata)\n",
    "---\n",
    "\n",
    "The practical note for this week introduces you to data preparation using Python and the libraries we installed last week. Data preparation is the most important step in any data mining project and it determines the \"make or break\" of a data mining project. In a real-life project, 70-80% of your time will be spent on this step.\n",
    "\n",
    "There are a number of process performed in this step. Some of them are:\n",
    "\n",
    "1. Understanding data\n",
    "2. Dealing with missing values\n",
    "3. Noise and errorneous data cleaning\n",
    "4. Data formatting (typically this depends on your model)\n",
    "5. Feature engineering\n",
    "\n",
    "## 1. Resuming from week 1 <a name=\"resume\"></a>\n",
    "Last week, we learned about how to load the PVA97NK dataset and review overall information about fields in the dataset. Before we start this week's practical, ensure your code looks like this:"
   ]
  },
  {
   "cell_type": "code",
   "execution_count": 1,
   "metadata": {},
   "outputs": [
    {
     "name": "stdout",
     "output_type": "stream",
     "text": [
      "<class 'pandas.core.frame.DataFrame'>\n",
      "RangeIndex: 9686 entries, 0 to 9685\n",
      "Data columns (total 28 columns):\n",
      "TargetB             9686 non-null int64\n",
      "ID                  9686 non-null int64\n",
      "TargetD             4843 non-null float64\n",
      "GiftCnt36           9686 non-null int64\n",
      "GiftCntAll          9686 non-null int64\n",
      "GiftCntCard36       9686 non-null int64\n",
      "GiftCntCardAll      9686 non-null int64\n",
      "GiftAvgLast         9686 non-null float64\n",
      "GiftAvg36           9686 non-null float64\n",
      "GiftAvgAll          9686 non-null float64\n",
      "GiftAvgCard36       7906 non-null float64\n",
      "GiftTimeLast        9686 non-null int64\n",
      "GiftTimeFirst       9686 non-null int64\n",
      "PromCnt12           9686 non-null int64\n",
      "PromCnt36           9686 non-null int64\n",
      "PromCntAll          9686 non-null int64\n",
      "PromCntCard12       9686 non-null int64\n",
      "PromCntCard36       9686 non-null int64\n",
      "PromCntCardAll      9686 non-null int64\n",
      "StatusCat96NK       9686 non-null object\n",
      "StatusCatStarAll    9686 non-null int64\n",
      "DemCluster          9686 non-null int64\n",
      "DemAge              7279 non-null float64\n",
      "DemGender           9686 non-null object\n",
      "DemHomeOwner        9686 non-null object\n",
      "DemMedHomeValue     9686 non-null int64\n",
      "DemPctVeterans      9686 non-null int64\n",
      "DemMedIncome        9686 non-null int64\n",
      "dtypes: float64(6), int64(19), object(3)\n",
      "memory usage: 2.1+ MB\n"
     ]
    }
   ],
   "source": [
    "import pandas as pd\n",
    "\n",
    "# read the pva97nk dataset\n",
    "df = pd.read_csv('pva97nk.csv')\n",
    "\n",
    "# show all columns information\n",
    "df.info()"
   ]
  },
  {
   "cell_type": "markdown",
   "metadata": {},
   "source": [
    "## 2. Exploring data<a name=\"explore\"></a>\n",
    "\n",
    "Let's take a closer look on the data. The dataframe info output above reveals a number of important information from our dataset:\n",
    "1. Number of rows (or entries): 9686\n",
    "2. Number of fields (or columns): 28\n",
    "3. Number of entries and data type for each column: 9686 entries and integer number for Target B; 7906 entries and floating point for GiftAvgCard36.\n",
    "\n",
    "### 2.1. Taking a closer look on each column\n",
    "\n",
    "Let's take a closer look on each column. Take \"DemAge\" column for example. To grab an overall knowledge of the column, we can use the `.describe()` method."
   ]
  },
  {
   "cell_type": "code",
   "execution_count": 2,
   "metadata": {},
   "outputs": [
    {
     "data": {
      "text/plain": [
       "count    7279.000000\n",
       "mean       59.150845\n",
       "std        16.516400\n",
       "min         0.000000\n",
       "25%        47.000000\n",
       "50%        60.000000\n",
       "75%        73.000000\n",
       "max        87.000000\n",
       "Name: DemAge, dtype: float64"
      ]
     },
     "execution_count": 2,
     "metadata": {},
     "output_type": "execute_result"
    }
   ],
   "source": [
    "df['DemAge'].describe()"
   ]
  },
  {
   "cell_type": "markdown",
   "metadata": {},
   "source": [
    "If we want to check the unique values and how many records for each value, we could use `.unique()` and `.value_counts()` method."
   ]
  },
  {
   "cell_type": "code",
   "execution_count": 3,
   "metadata": {},
   "outputs": [
    {
     "data": {
      "text/plain": [
       "array([ nan,  67.,  53.,  47.,  58.,  39.,  50.,  45.,  80.,  61.,  76.,\n",
       "        41.,  75.,  59.,  51.,  31.,  54.,  70.,  42.,  65.,  81.,  38.,\n",
       "        56.,  69.,  52.,  33.,  73.,  71.,  29.,  60.,  83.,  43.,  35.,\n",
       "        77.,  44.,  72.,  64.,  34.,  55.,  37.,  57.,  46.,  49.,  32.,\n",
       "        66.,  87.,  40.,  79.,  25.,  63.,  62.,  48.,  68.,  86.,  23.,\n",
       "        27.,  74.,  78.,  85.,  26.,   7.,  36.,  82.,  24.,  17.,  30.,\n",
       "        84.,  21.,  28.,  22.,  19.,  16.,  14.,   6.,   0.,   2.,  20.,\n",
       "        18.,  15.,   4.])"
      ]
     },
     "execution_count": 3,
     "metadata": {},
     "output_type": "execute_result"
    }
   ],
   "source": [
    "df['DemAge'].unique()"
   ]
  },
  {
   "cell_type": "code",
   "execution_count": 4,
   "metadata": {},
   "outputs": [
    {
     "data": {
      "text/plain": [
       "73.0    216\n",
       "67.0    215\n",
       "75.0    203\n",
       "49.0    201\n",
       "57.0    187\n",
       "77.0    183\n",
       "55.0    182\n",
       "65.0    181\n",
       "47.0    179\n",
       "69.0    178\n",
       "71.0    173\n",
       "51.0    167\n",
       "79.0    165\n",
       "45.0    164\n",
       "74.0    162\n",
       "53.0    152\n",
       "59.0    150\n",
       "76.0    139\n",
       "43.0    138\n",
       "63.0    138\n",
       "81.0    136\n",
       "61.0    136\n",
       "50.0    131\n",
       "37.0    125\n",
       "41.0    124\n",
       "78.0    123\n",
       "80.0    123\n",
       "72.0    122\n",
       "70.0    116\n",
       "68.0    116\n",
       "       ... \n",
       "84.0     70\n",
       "27.0     69\n",
       "86.0     68\n",
       "33.0     65\n",
       "31.0     59\n",
       "36.0     57\n",
       "38.0     53\n",
       "17.0     46\n",
       "34.0     42\n",
       "29.0     33\n",
       "7.0      32\n",
       "32.0     31\n",
       "30.0     24\n",
       "26.0     19\n",
       "28.0     19\n",
       "25.0     17\n",
       "23.0     12\n",
       "22.0      7\n",
       "24.0      6\n",
       "16.0      5\n",
       "21.0      5\n",
       "19.0      4\n",
       "6.0       3\n",
       "14.0      1\n",
       "0.0       1\n",
       "2.0       1\n",
       "20.0      1\n",
       "4.0       1\n",
       "18.0      1\n",
       "15.0      1\n",
       "Name: DemAge, Length: 79, dtype: int64"
      ]
     },
     "execution_count": 4,
     "metadata": {},
     "output_type": "execute_result"
    }
   ],
   "source": [
    "df['DemAge'].value_counts()"
   ]
  },
  {
   "cell_type": "markdown",
   "metadata": {},
   "source": [
    "From these outputs, we reveals a number of data problems with \"DemAge\" column.\n",
    "1. There are only 7279 records in \"DemAge\" column, while the total number of records in this data set is 9686. This indicates missing values in \"DemAge\". This observation is also visible through the NaN printed by ```.unique()``` method.\n",
    "2. One record in \"DemAge\" has 0 as value. It indicates an errorneous data in this column.\n",
    "\n",
    "We will rectify these problems later in section 3.\n",
    "\n",
    "Could you spot data problems in other columns using ```.describe()```, ```.unique()``` and ```.value_counts()```?"
   ]
  },
  {
   "cell_type": "markdown",
   "metadata": {},
   "source": [
    "### 2.2. Grouping and plotting distributions of columns\n",
    "Another way to gain more insights of the data is by grouping and comparing and plotting their distribution.\n",
    "\n",
    "We could perform grouping using `.groupby()` method. Grouping is commonly used to see whether there is a trend between two or more different fields. For example, let's check whether there is a specific correlation between age (DemAge) and tendency to be a lapsing donor (TargetB)."
   ]
  },
  {
   "cell_type": "code",
   "execution_count": 5,
   "metadata": {},
   "outputs": [
    {
     "data": {
      "text/plain": [
       "TargetB\n",
       "0    58.304444\n",
       "1    59.979070\n",
       "Name: DemAge, dtype: float64"
      ]
     },
     "execution_count": 5,
     "metadata": {},
     "output_type": "execute_result"
    }
   ],
   "source": [
    "df.groupby(['TargetB'])['DemAge'].mean()"
   ]
  },
  {
   "cell_type": "markdown",
   "metadata": {},
   "source": [
    "We could see that average age of lapsing donors is slightly higher than the non-lapsing donors.\n",
    "\n",
    "Other than `.mean()`, we could also perform grouping with other method such as `.value_counts()` and `.median()`."
   ]
  },
  {
   "cell_type": "code",
   "execution_count": 6,
   "metadata": {},
   "outputs": [
    {
     "data": {
      "text/plain": [
       "TargetB  DemGender\n",
       "0        F            2614\n",
       "         M            1963\n",
       "         U             266\n",
       "1        F            2609\n",
       "         M            1962\n",
       "         U             272\n",
       "Name: DemGender, dtype: int64"
      ]
     },
     "execution_count": 6,
     "metadata": {},
     "output_type": "execute_result"
    }
   ],
   "source": [
    "df.groupby(['TargetB'])['DemGender'].value_counts()"
   ]
  },
  {
   "cell_type": "markdown",
   "metadata": {},
   "source": [
    "While all of the methods we have used so far are very useful in providing information about the data, data mining professionals commonly visualize these information in charts for easier presentation. In python, we could do that using `seaborn` and `matplotlib` library.\n",
    "\n",
    "Firstly, let's import them."
   ]
  },
  {
   "cell_type": "code",
   "execution_count": 7,
   "metadata": {},
   "outputs": [
    {
     "name": "stderr",
     "output_type": "stream",
     "text": [
      "/home/hendi/Documents/Tutoring/dataminingtutorials/my_env/lib/python3.5/site-packages/IPython/html.py:14: ShimWarning: The `IPython.html` package has been deprecated since IPython 4.0. You should import from `notebook` instead. `IPython.html.widgets` has moved to `ipywidgets`.\n",
      "  \"`IPython.html.widgets` has moved to `ipywidgets`.\", ShimWarning)\n"
     ]
    }
   ],
   "source": [
    "import matplotlib.pyplot as plt\n",
    "import seaborn as sns"
   ]
  },
  {
   "cell_type": "markdown",
   "metadata": {},
   "source": [
    "A very common information to visualize is distribution of a field/column. There are a number options to do it in seaborn/matplotlib. For interval/numerical variables, we could use `distplot`. Let's try that for \"DemAge\". `distplot` is sensitive towards missing values (which are present in \"DemAge\"), thus we have to drop them using `dropna()` method."
   ]
  },
  {
   "cell_type": "code",
   "execution_count": 8,
   "metadata": {},
   "outputs": [
    {
     "data": {
      "image/png": "[encoded data removed]",
      "text/plain": [
       "<matplotlib.figure.Figure at 0x7f2dbf478400>"
      ]
     },
     "metadata": {},
     "output_type": "display_data"
    }
   ],
   "source": [
    "# dropna is used because 'DemAge' has missing values\n",
    "dg = sns.distplot(df['DemAge'].dropna())\n",
    "plt.show()"
   ]
  },
  {
   "cell_type": "markdown",
   "metadata": {},
   "source": [
    "For nominal/categorical variables, we can use `countplot` to build a bar chart to show distribution of each values."
   ]
  },
  {
   "cell_type": "code",
   "execution_count": 9,
   "metadata": {},
   "outputs": [
    {
     "data": {
      "image/png": "[encoded data removed]",
      "text/plain": [
       "<matplotlib.figure.Figure at 0x7f2dcdb397f0>"
      ]
     },
     "metadata": {},
     "output_type": "display_data"
    }
   ],
   "source": [
    "dg = sns.countplot(data=df, x='DemGender')\n",
    "plt.show()"
   ]
  },
  {
   "cell_type": "markdown",
   "metadata": {},
   "source": [
    "Could you visualize other columns using `distplot` and `countplot`?"
   ]
  },
  {
   "cell_type": "markdown",
   "metadata": {},
   "source": [
    "## 3. Modifying and Correcting Data<a name=\"moddata\"></a>"
   ]
  },
  {
   "cell_type": "code",
   "execution_count": 10,
   "metadata": {},
   "outputs": [],
   "source": [
    "import numpy as np\n",
    "\n",
    "# impute missing values in DemAge with its mean\n",
    "df['DemAge'].fillna(df['DemAge'].mean(), inplace=True)\n",
    "\n",
    "# change DemCluster from interval/integer to nominal/str\n",
    "df['DemCluster'] = df['DemCluster'].astype(str)\n",
    "\n",
    "# change DemHomeOwner into binary 0/1 variable\n",
    "dem_home_owner_map = {'U':0, 'H': 1}\n",
    "df['DemHomeOwner'] = df['DemHomeOwner'].map(dem_home_owner_map)\n",
    "\n",
    "# denote miss values in DemMidIncome\n",
    "mask = df['DemMedIncome'] < 1\n",
    "df.loc[mask, 'DemMedIncome'] = np.nan\n",
    "\n",
    "df['DemMedIncome'].replace(0, np.nan, inplace=True)\n",
    "\n",
    "# impute med income using average strategy\n",
    "df['DemMedIncome'].fillna(df['DemMedIncome'].mean(), inplace=True)\n",
    "\n",
    "# impute gift avg card 36 using average strategy\n",
    "df['GiftAvgCard36'].fillna(df['GiftAvgCard36'].mean(), inplace=True)\n",
    "\n",
    "# drop ID and the unused target variable\n",
    "df.drop(['ID', 'TargetD'], axis=1, inplace=True)"
   ]
  },
  {
   "cell_type": "markdown",
   "metadata": {},
   "source": [
    "## End notes and next week\n",
    "This week, we learned how to use Python `pandas` to perform data cleaning and preprocessing. We also learned about basic `seaborn` and `matplotlib` methods for visualizing data distribution in a column.\n",
    "\n",
    "Next week, we will focus on performing predictive classification modelling using decision trees."
   ]
  },
  {
   "cell_type": "code",
   "execution_count": null,
   "metadata": {
    "collapsed": true
   },
   "outputs": [],
   "source": []
  }
 ],
 "metadata": {
  "kernelspec": {
   "display_name": "Python 3",
   "language": "python",
   "name": "python3"
  },
  "language_info": {
   "codemirror_mode": {
    "name": "ipython",
    "version": 3
   },
   "file_extension": ".py",
   "mimetype": "text/x-python",
   "name": "python",
   "nbconvert_exporter": "python",
   "pygments_lexer": "ipython3",
   "version": "3.5.2"
  }
 },
 "nbformat": 4,
 "nbformat_minor": 2
}
