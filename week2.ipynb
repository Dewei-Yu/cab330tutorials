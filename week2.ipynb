{
 "cells": [
  {
   "cell_type": "markdown",
   "metadata": {},
   "source": [
    "# Week 2: Data Preparation\n",
    "\n",
    "### What's on this week\n",
    "1. [Resuming from week 1](#resume)\n",
    "2. [Exploring data](#explore)\n",
    "3. [Modifying and correcting data](#moddata)\n",
    "---\n",
    "\n",
    "The practical note for this week introduces you to data preparation using Python and the libraries we installed last week. Data preparation is the most important step in any data mining project and it determines the \"make or break\" of a data mining project. In a real-life project, 70-80% of your time will be spent on this step.\n",
    "\n",
    "There are a number of process performed in this step. Some of them are:\n",
    "\n",
    "1. Understanding data\n",
    "2. Dealing with missing values\n",
    "3. Noise and errorneous data cleaning\n",
    "4. Data formatting (typically this depends on your model)\n",
    "5. Feature engineering\n",
    "\n",
    "**This tutorial notes is in experimental version. Please give us feedbacks and suggestions on how to make it better. Ask your tutor for any question and clarification.**\n",
    "\n",
    "## 1. Resuming from week 1 <a name=\"resume\"></a>\n",
    "Last week, we learned about how to load the PVA97NK dataset and review overall information about fields in the dataset. Before we start this week's practical, ensure your code looks like this:"
   ]
  },
  {
   "cell_type": "code",
   "execution_count": 1,
   "metadata": {},
   "outputs": [
    {
     "name": "stdout",
     "output_type": "stream",
     "text": [
      "<class 'pandas.core.frame.DataFrame'>\n",
      "RangeIndex: 9686 entries, 0 to 9685\n",
      "Data columns (total 28 columns):\n",
      "TargetB             9686 non-null int64\n",
      "ID                  9686 non-null int64\n",
      "TargetD             4843 non-null float64\n",
      "GiftCnt36           9686 non-null int64\n",
      "GiftCntAll          9686 non-null int64\n",
      "GiftCntCard36       9686 non-null int64\n",
      "GiftCntCardAll      9686 non-null int64\n",
      "GiftAvgLast         9686 non-null float64\n",
      "GiftAvg36           9686 non-null float64\n",
      "GiftAvgAll          9686 non-null float64\n",
      "GiftAvgCard36       7906 non-null float64\n",
      "GiftTimeLast        9686 non-null int64\n",
      "GiftTimeFirst       9686 non-null int64\n",
      "PromCnt12           9686 non-null int64\n",
      "PromCnt36           9686 non-null int64\n",
      "PromCntAll          9686 non-null int64\n",
      "PromCntCard12       9686 non-null int64\n",
      "PromCntCard36       9686 non-null int64\n",
      "PromCntCardAll      9686 non-null int64\n",
      "StatusCat96NK       9686 non-null object\n",
      "StatusCatStarAll    9686 non-null int64\n",
      "DemCluster          9686 non-null int64\n",
      "DemAge              7279 non-null float64\n",
      "DemGender           9686 non-null object\n",
      "DemHomeOwner        9686 non-null object\n",
      "DemMedHomeValue     9686 non-null int64\n",
      "DemPctVeterans      9686 non-null int64\n",
      "DemMedIncome        9686 non-null int64\n",
      "dtypes: float64(6), int64(19), object(3)\n",
      "memory usage: 2.1+ MB\n"
     ]
    }
   ],
   "source": [
    "import pandas as pd\n",
    "\n",
    "# read the pva97nk dataset\n",
    "df = pd.read_csv('pva97nk.csv')\n",
    "\n",
    "# show all columns information\n",
    "df.info()"
   ]
  },
  {
   "cell_type": "markdown",
   "metadata": {},
   "source": [
    "## 2. Exploring data<a name=\"explore\"></a>\n",
    "\n",
    "Let's take a closer look on the data. The dataframe info output above reveals a number of important information from our dataset:\n",
    "1. Number of rows (or entries): 9686\n",
    "2. Number of fields (or columns): 28\n",
    "3. Number of entries and data type for each column: 9686 entries and integer number for Target B; 7906 entries and floating point for GiftAvgCard36.\n",
    "\n",
    "### 2.1. Taking a closer look on each column\n",
    "\n",
    "Let's take a closer look on each column. Take \"DemAge\" column for example. To grab an overall knowledge of the column, we can use the `.describe()` method."
   ]
  },
  {
   "cell_type": "code",
   "execution_count": 2,
   "metadata": {},
   "outputs": [
    {
     "data": {
      "text/plain": [
       "count    7279.000000\n",
       "mean       59.150845\n",
       "std        16.516400\n",
       "min         0.000000\n",
       "25%        47.000000\n",
       "50%        60.000000\n",
       "75%        73.000000\n",
       "max        87.000000\n",
       "Name: DemAge, dtype: float64"
      ]
     },
     "execution_count": 2,
     "metadata": {},
     "output_type": "execute_result"
    }
   ],
   "source": [
    "df['DemAge'].describe()"
   ]
  },
  {
   "cell_type": "markdown",
   "metadata": {},
   "source": [
    "If we want to check the unique values and how many records for each value, we could use `.unique()` and `.value_counts()` method."
   ]
  },
  {
   "cell_type": "code",
   "execution_count": 3,
   "metadata": {},
   "outputs": [
    {
     "data": {
      "text/plain": [
       "array([ nan,  67.,  53.,  47.,  58.,  39.,  50.,  45.,  80.,  61.,  76.,\n",
       "        41.,  75.,  59.,  51.,  31.,  54.,  70.,  42.,  65.,  81.,  38.,\n",
       "        56.,  69.,  52.,  33.,  73.,  71.,  29.,  60.,  83.,  43.,  35.,\n",
       "        77.,  44.,  72.,  64.,  34.,  55.,  37.,  57.,  46.,  49.,  32.,\n",
       "        66.,  87.,  40.,  79.,  25.,  63.,  62.,  48.,  68.,  86.,  23.,\n",
       "        27.,  74.,  78.,  85.,  26.,   7.,  36.,  82.,  24.,  17.,  30.,\n",
       "        84.,  21.,  28.,  22.,  19.,  16.,  14.,   6.,   0.,   2.,  20.,\n",
       "        18.,  15.,   4.])"
      ]
     },
     "execution_count": 3,
     "metadata": {},
     "output_type": "execute_result"
    }
   ],
   "source": [
    "df['DemAge'].unique()"
   ]
  },
  {
   "cell_type": "code",
   "execution_count": 4,
   "metadata": {},
   "outputs": [
    {
     "data": {
      "text/plain": [
       "73.0    216\n",
       "67.0    215\n",
       "75.0    203\n",
       "49.0    201\n",
       "57.0    187\n",
       "77.0    183\n",
       "55.0    182\n",
       "65.0    181\n",
       "47.0    179\n",
       "69.0    178\n",
       "71.0    173\n",
       "51.0    167\n",
       "79.0    165\n",
       "45.0    164\n",
       "74.0    162\n",
       "53.0    152\n",
       "59.0    150\n",
       "76.0    139\n",
       "43.0    138\n",
       "63.0    138\n",
       "81.0    136\n",
       "61.0    136\n",
       "50.0    131\n",
       "37.0    125\n",
       "41.0    124\n",
       "78.0    123\n",
       "80.0    123\n",
       "72.0    122\n",
       "70.0    116\n",
       "68.0    116\n",
       "       ... \n",
       "84.0     70\n",
       "27.0     69\n",
       "86.0     68\n",
       "33.0     65\n",
       "31.0     59\n",
       "36.0     57\n",
       "38.0     53\n",
       "17.0     46\n",
       "34.0     42\n",
       "29.0     33\n",
       "7.0      32\n",
       "32.0     31\n",
       "30.0     24\n",
       "26.0     19\n",
       "28.0     19\n",
       "25.0     17\n",
       "23.0     12\n",
       "22.0      7\n",
       "24.0      6\n",
       "16.0      5\n",
       "21.0      5\n",
       "19.0      4\n",
       "6.0       3\n",
       "14.0      1\n",
       "0.0       1\n",
       "2.0       1\n",
       "20.0      1\n",
       "4.0       1\n",
       "18.0      1\n",
       "15.0      1\n",
       "Name: DemAge, Length: 79, dtype: int64"
      ]
     },
     "execution_count": 4,
     "metadata": {},
     "output_type": "execute_result"
    }
   ],
   "source": [
    "df['DemAge'].value_counts()"
   ]
  },
  {
   "cell_type": "markdown",
   "metadata": {},
   "source": [
    "From these outputs, we reveals a number of data problems with \"DemAge\" column.\n",
    "1. There are only 7279 records in \"DemAge\" column, while the total number of records in this data set is 9686. This indicates missing values in \"DemAge\". This observation is also visible through the NaN printed by ```.unique()``` method.\n",
    "2. One record in \"DemAge\" has 0 as value. It indicates an errorneous data in this column.\n",
    "\n",
    "We will rectify these problems later in section 3.\n",
    "\n",
    "Could you spot data problems in other columns using ```.describe()```, ```.unique()``` and ```.value_counts()```?"
   ]
  },
  {
   "cell_type": "markdown",
   "metadata": {},
   "source": [
    "### 2.2. Grouping and plotting distributions of columns\n",
    "Another way to gain more insights of the data is by grouping and comparing and plotting their distribution.\n",
    "\n",
    "We could perform grouping using `.groupby()` method. Grouping is commonly used to see whether there is a trend between two or more different fields. For example, let's check whether there is a specific correlation between age (DemAge) and tendency to be a lapsing donor (TargetB)."
   ]
  },
  {
   "cell_type": "code",
   "execution_count": 5,
   "metadata": {},
   "outputs": [
    {
     "data": {
      "text/plain": [
       "TargetB\n",
       "0    58.304444\n",
       "1    59.979070\n",
       "Name: DemAge, dtype: float64"
      ]
     },
     "execution_count": 5,
     "metadata": {},
     "output_type": "execute_result"
    }
   ],
   "source": [
    "df.groupby(['TargetB'])['DemAge'].mean()"
   ]
  },
  {
   "cell_type": "markdown",
   "metadata": {},
   "source": [
    "We could see that average age of lapsing donors is slightly higher than the non-lapsing donors.\n",
    "\n",
    "Other than `.mean()`, we could also perform grouping with other method such as `.value_counts()` and `.median()`."
   ]
  },
  {
   "cell_type": "code",
   "execution_count": 6,
   "metadata": {},
   "outputs": [
    {
     "data": {
      "text/plain": [
       "TargetB  DemGender\n",
       "0        F            2614\n",
       "         M            1963\n",
       "         U             266\n",
       "1        F            2609\n",
       "         M            1962\n",
       "         U             272\n",
       "Name: DemGender, dtype: int64"
      ]
     },
     "execution_count": 6,
     "metadata": {},
     "output_type": "execute_result"
    }
   ],
   "source": [
    "df.groupby(['TargetB'])['DemGender'].value_counts()"
   ]
  },
  {
   "cell_type": "markdown",
   "metadata": {},
   "source": [
    "While all of the methods we have used so far are very useful in providing information about the data, data mining professionals commonly visualize these information in charts for easier presentation. In python, we could do that using `seaborn` and `matplotlib` library.\n",
    "\n",
    "Firstly, let's import them."
   ]
  },
  {
   "cell_type": "code",
   "execution_count": 7,
   "metadata": {
    "collapsed": true
   },
   "outputs": [],
   "source": [
    "import matplotlib.pyplot as plt\n",
    "import seaborn as sns"
   ]
  },
  {
   "cell_type": "markdown",
   "metadata": {},
   "source": [
    "A very common information to visualize is distribution of a field/column. There are a number options to do it in seaborn/matplotlib. For interval/numerical variables, we could use `distplot`. Let's try that for \"DemAge\". `distplot` is sensitive towards missing values (which are present in \"DemAge\"), thus we have to drop them using `dropna()` method."
   ]
  },
  {
   "cell_type": "code",
   "execution_count": 8,
   "metadata": {},
   "outputs": [
    {
     "data": {
      "image/png": "[encoded data removed]",
      "text/plain": [
       "<matplotlib.figure.Figure at 0x7fa50271b7b8>"
      ]
     },
     "metadata": {},
     "output_type": "display_data"
    }
   ],
   "source": [
    "# dropna is used because 'DemAge' has missing values\n",
    "dg = sns.distplot(df['DemAge'].dropna())\n",
    "plt.show()"
   ]
  },
  {
   "cell_type": "markdown",
   "metadata": {},
   "source": [
    "For nominal/categorical variables, we can use `countplot` to build a bar chart to show distribution of each values."
   ]
  },
  {
   "cell_type": "code",
   "execution_count": 9,
   "metadata": {},
   "outputs": [
    {
     "data": {
      "image/png": "[encoded data removed]",
      "text/plain": [
       "<matplotlib.figure.Figure at 0x7fa500635b38>"
      ]
     },
     "metadata": {},
     "output_type": "display_data"
    }
   ],
   "source": [
    "dg = sns.countplot(data=df, x='DemGender')\n",
    "plt.show()"
   ]
  },
  {
   "cell_type": "markdown",
   "metadata": {},
   "source": [
    "Could you visualize other columns using `distplot` and `countplot`?"
   ]
  },
  {
   "cell_type": "markdown",
   "metadata": {},
   "source": [
    "## 3. Modifying and Correcting Data<a name=\"moddata\"></a>\n",
    "\n",
    "After exploring the data, we revealed the following problems in the dataset:\n",
    "1. Incorrect type used for `DemCluster` and `DemHomeOwner`. `DemCluster` should be an categorical/nominal variable and `DemHomeOwner` should be a binary variable.\n",
    "2. Invalid value (0) in `DemMedIncome`.\n",
    "3. Missing values in `DemAge`, `DemMedIncome`, `GiftAvgCard36`.\n",
    "4. Redundant variables in `ID` and `TargetD`.\n",
    "\n",
    "Let's fix these problems.\n",
    "\n",
    "### 3.1. Setting correct type to variables\n",
    "\n",
    "Firstly, we need to change `DemCluster` into categorical variable. It can be done as simple as typecasting it into a string variable.\n"
   ]
  },
  {
   "cell_type": "code",
   "execution_count": 10,
   "metadata": {
    "collapsed": true
   },
   "outputs": [],
   "source": [
    "# change DemCluster from interval/integer to nominal/str\n",
    "df['DemCluster'] = df['DemCluster'].astype(str)"
   ]
  },
  {
   "cell_type": "markdown",
   "metadata": {},
   "source": [
    "After that, we have to fix `DemHomeOwner`. A simple `.value_counts()` showed that `DemHomeOwner` is consisted of 2 unique values only."
   ]
  },
  {
   "cell_type": "code",
   "execution_count": 11,
   "metadata": {},
   "outputs": [
    {
     "data": {
      "text/plain": [
       "H    5377\n",
       "U    4309\n",
       "Name: DemHomeOwner, dtype: int64"
      ]
     },
     "execution_count": 11,
     "metadata": {},
     "output_type": "execute_result"
    }
   ],
   "source": [
    "df['DemHomeOwner'].value_counts()"
   ]
  },
  {
   "cell_type": "markdown",
   "metadata": {},
   "source": [
    "While it is perfectly fine to leave `DemHomeOwner` like that, we could also change it to a binary 0/1 variable. To do it, we will utilise `.map` function, which will map value \"U\" to 0 and \"H\" to 1."
   ]
  },
  {
   "cell_type": "code",
   "execution_count": 12,
   "metadata": {
    "collapsed": true
   },
   "outputs": [],
   "source": [
    "# change DemHomeOwner into binary 0/1 variable\n",
    "dem_home_owner_map = {'U':0, 'H': 1}\n",
    "df['DemHomeOwner'] = df['DemHomeOwner'].map(dem_home_owner_map)"
   ]
  },
  {
   "cell_type": "markdown",
   "metadata": {},
   "source": [
    "### 3.2. Correcting invalid values\n",
    "\n",
    "The next step in cleaning our dataset is to correct invalid values in `DemMedIncome`. A simple `.count` reveals a large number of 0 values, which for income data is not valid."
   ]
  },
  {
   "cell_type": "code",
   "execution_count": 13,
   "metadata": {},
   "outputs": [
    {
     "data": {
      "text/plain": [
       "0         2357\n",
       "43100       10\n",
       "46250        8\n",
       "72339        8\n",
       "48772        8\n",
       "67860        7\n",
       "73833        7\n",
       "49277        7\n",
       "57164        7\n",
       "40054        7\n",
       "65906        6\n",
       "68819        6\n",
       "44829        6\n",
       "64579        6\n",
       "65288        6\n",
       "49337        6\n",
       "55991        6\n",
       "49601        6\n",
       "56828        6\n",
       "34619        6\n",
       "87665        6\n",
       "36250        6\n",
       "59357        6\n",
       "50000        6\n",
       "97480        6\n",
       "38750        6\n",
       "80929        6\n",
       "47580        6\n",
       "47308        6\n",
       "47076        6\n",
       "          ... \n",
       "31820        1\n",
       "50251        1\n",
       "43867        1\n",
       "35906        1\n",
       "42047        1\n",
       "59202        1\n",
       "45928        1\n",
       "48244        1\n",
       "62589        1\n",
       "42207        1\n",
       "46261        1\n",
       "45816        1\n",
       "50395        1\n",
       "102368       1\n",
       "44238        1\n",
       "76547        1\n",
       "40136        1\n",
       "56512        1\n",
       "60598        1\n",
       "64265        1\n",
       "41770        1\n",
       "46245        1\n",
       "43787        1\n",
       "33947        1\n",
       "52370        1\n",
       "40080        1\n",
       "29464        1\n",
       "51999        1\n",
       "72485        1\n",
       "41000        1\n",
       "Name: DemMedIncome, Length: 4463, dtype: int64"
      ]
     },
     "execution_count": 13,
     "metadata": {},
     "output_type": "execute_result"
    }
   ],
   "source": [
    "df['DemMedIncome'].value_counts()"
   ]
  },
  {
   "cell_type": "markdown",
   "metadata": {
    "collapsed": true
   },
   "source": [
    "To remove these errorneous values, we first have to create a filter to denote which row has invalid value. Here, we want to filter out any `DemMedIncome` with value less than 1. Let's create a mask based on that."
   ]
  },
  {
   "cell_type": "code",
   "execution_count": 14,
   "metadata": {
    "collapsed": true
   },
   "outputs": [],
   "source": [
    "# denote errorneous values in DemMidIncome\n",
    "mask = df['DemMedIncome'] < 1"
   ]
  },
  {
   "cell_type": "markdown",
   "metadata": {},
   "source": [
    "Once we have the mask, we could use `.loc` to replace the errorneous values. As we will impute missing values in the next step, we could just denote zeroes in `DemMedIncome` as missing now. `Pandas` uses `numpy`'s `NaN` as missing value."
   ]
  },
  {
   "cell_type": "code",
   "execution_count": 15,
   "metadata": {
    "collapsed": true
   },
   "outputs": [],
   "source": [
    "import numpy as np\n",
    "df.loc[mask, 'DemMedIncome'] = np.nan"
   ]
  },
  {
   "cell_type": "markdown",
   "metadata": {},
   "source": [
    "### 3.3. Imputing Missing Values\n",
    "\n",
    "Eliminating missing values is very important in building models with `sklearn` as the algorithms in the library do not accept missing values. There are 3 columns with many missing values, `DemAge`, `DemMedIncome` and `GiftAvgCard36`. A number of approaches could be used to solve them, namely imputation, flagging or straight out removing affected rows/columns. In this tutorial, we will impute them with the mean value of the non-missing records."
   ]
  },
  {
   "cell_type": "code",
   "execution_count": 16,
   "metadata": {
    "collapsed": true
   },
   "outputs": [],
   "source": [
    "# impute missing values in DemAge with its mean\n",
    "df['DemAge'].fillna(df['DemAge'].mean(), inplace=True)\n",
    "\n",
    "# impute med income using mean\n",
    "df['DemMedIncome'].fillna(df['DemMedIncome'].mean(), inplace=True)\n",
    "\n",
    "# impute gift avg card 36 using mean\n",
    "df['GiftAvgCard36'].fillna(df['GiftAvgCard36'].mean(), inplace=True)"
   ]
  },
  {
   "cell_type": "markdown",
   "metadata": {},
   "source": [
    "### 3.4. Dropping Unnecessary Variables\n",
    "\n",
    "The last step we need to take in this data preprocessing is to drop `ID` and `TargetD`. The reason is `ID` does not contribute anything towards the model building. While for `TargetD`, we will focus on classification task of predicting `TargetB`. `TargetD` can be used if you would want to experiment with regression."
   ]
  },
  {
   "cell_type": "code",
   "execution_count": 17,
   "metadata": {
    "collapsed": true
   },
   "outputs": [],
   "source": [
    "# drop ID and the unused target variable\n",
    "df.drop(['ID', 'TargetD'], axis=1, inplace=True)"
   ]
  },
  {
   "cell_type": "markdown",
   "metadata": {},
   "source": [
    "The last step is to convert categorical variables into binary variables. This is done because `sklearn` models only accept numerical matrices as input. This converting process is commonly referred as one-hot encoding. We can do one hot encoding using `.get_dummies()`. An example of this process is give below."
   ]
  },
  {
   "cell_type": "code",
   "execution_count": 20,
   "metadata": {},
   "outputs": [
    {
     "data": {
      "text/plain": [
       "0    F\n",
       "1    F\n",
       "2    M\n",
       "3    M\n",
       "4    M\n",
       "Name: DemGender, dtype: object"
      ]
     },
     "execution_count": 20,
     "metadata": {},
     "output_type": "execute_result"
    }
   ],
   "source": [
    "# for gender, before one hot encoding. .head() is used to display first 5 records.\n",
    "df['DemGender'].head(5)"
   ]
  },
  {
   "cell_type": "code",
   "execution_count": 21,
   "metadata": {},
   "outputs": [
    {
     "data": {
      "text/html": [
       "<div>\n",
       "<style>\n",
       "    .dataframe thead tr:only-child th {\n",
       "        text-align: right;\n",
       "    }\n",
       "\n",
       "    .dataframe thead th {\n",
       "        text-align: left;\n",
       "    }\n",
       "\n",
       "    .dataframe tbody tr th {\n",
       "        vertical-align: top;\n",
       "    }\n",
       "</style>\n",
       "<table border=\"1\" class=\"dataframe\">\n",
       "  <thead>\n",
       "    <tr style=\"text-align: right;\">\n",
       "      <th></th>\n",
       "      <th>F</th>\n",
       "      <th>M</th>\n",
       "      <th>U</th>\n",
       "    </tr>\n",
       "  </thead>\n",
       "  <tbody>\n",
       "    <tr>\n",
       "      <th>0</th>\n",
       "      <td>1</td>\n",
       "      <td>0</td>\n",
       "      <td>0</td>\n",
       "    </tr>\n",
       "    <tr>\n",
       "      <th>1</th>\n",
       "      <td>1</td>\n",
       "      <td>0</td>\n",
       "      <td>0</td>\n",
       "    </tr>\n",
       "    <tr>\n",
       "      <th>2</th>\n",
       "      <td>0</td>\n",
       "      <td>1</td>\n",
       "      <td>0</td>\n",
       "    </tr>\n",
       "    <tr>\n",
       "      <th>3</th>\n",
       "      <td>0</td>\n",
       "      <td>1</td>\n",
       "      <td>0</td>\n",
       "    </tr>\n",
       "    <tr>\n",
       "      <th>4</th>\n",
       "      <td>0</td>\n",
       "      <td>1</td>\n",
       "      <td>0</td>\n",
       "    </tr>\n",
       "  </tbody>\n",
       "</table>\n",
       "</div>"
      ],
      "text/plain": [
       "   F  M  U\n",
       "0  1  0  0\n",
       "1  1  0  0\n",
       "2  0  1  0\n",
       "3  0  1  0\n",
       "4  0  1  0"
      ]
     },
     "execution_count": 21,
     "metadata": {},
     "output_type": "execute_result"
    }
   ],
   "source": [
    "# after one hot encoding\n",
    "demo_df = pd.get_dummies(df['DemGender'])\n",
    "demo_df.head(5)"
   ]
  },
  {
   "cell_type": "code",
   "execution_count": 22,
   "metadata": {},
   "outputs": [
    {
     "name": "stdout",
     "output_type": "stream",
     "text": [
      "Before: 26\n",
      "After: 86\n"
     ]
    }
   ],
   "source": [
    "# one hot encoding all categorical variables\n",
    "# all numerical variables are automatically excluded\n",
    "# number of columns after the conversion should explode\n",
    "print(\"Before:\", len(df.columns))\n",
    "\n",
    "# one hot encoding\n",
    "df = pd.get_dummies(df)\n",
    "\n",
    "print(\"After:\", len(df.columns))"
   ]
  },
  {
   "cell_type": "markdown",
   "metadata": {},
   "source": [
    "That's it, folks! We have done it. To make data preprocessing easier, it is recommended to wrap all of the code we did earlier in a function (let's call it `data_prep`). As we will call this function quite frequently in many places across our project folder, I also like to put it in a file (`dm_tools.py` for me) and just import it from there."
   ]
  },
  {
   "cell_type": "code",
   "execution_count": 19,
   "metadata": {
    "collapsed": true
   },
   "outputs": [],
   "source": [
    "# dm_tools.py\n",
    "import numpy as np\n",
    "import pandas as pd\n",
    "\n",
    "def data_prep():\n",
    "    # read the pva97nk dataset\n",
    "    df = pd.read_csv('pva97nk.csv')\n",
    "    \n",
    "    # change DemCluster from interval/integer to nominal/str\n",
    "    df['DemCluster'] = df['DemCluster'].astype(str)\n",
    "    \n",
    "    # change DemHomeOwner into binary 0/1 variable\n",
    "    dem_home_owner_map = {'U':0, 'H': 1}\n",
    "    df['DemHomeOwner'] = df['DemHomeOwner'].map(dem_home_owner_map)\n",
    "    \n",
    "    # denote errorneous values in DemMidIncome\n",
    "    mask = df['DemMedIncome'] < 1\n",
    "    df.loc[mask, 'DemMedIncome'] = np.nan\n",
    "    \n",
    "    # impute missing values in DemAge with its mean\n",
    "    df['DemAge'].fillna(df['DemAge'].mean(), inplace=True)\n",
    "\n",
    "    # impute med income using mean\n",
    "    df['DemMedIncome'].fillna(df['DemMedIncome'].mean(), inplace=True)\n",
    "\n",
    "    # impute gift avg card 36 using mean\n",
    "    df['GiftAvgCard36'].fillna(df['GiftAvgCard36'].mean(), inplace=True)\n",
    "    \n",
    "    # drop ID and the unused target variable\n",
    "    df.drop(['ID', 'TargetD'], axis=1, inplace=True)\n",
    "    \n",
    "    df = pd.get_dummies(df)\n",
    "    \n",
    "    return df\n",
    "\n",
    "# can just import it like this\n",
    "# from dm_tools import data_prep"
   ]
  },
  {
   "cell_type": "markdown",
   "metadata": {},
   "source": [
    "## End notes and next week\n",
    "\n",
    "This week, we learned how to use Python `pandas` to perform data cleaning and preprocessing. We also learned about basic `seaborn` and `matplotlib` methods for visualizing data distribution in a column.\n",
    "\n",
    "Next week, we will focus on performing predictive classification modelling using decision trees."
   ]
  },
  {
   "cell_type": "code",
   "execution_count": null,
   "metadata": {
    "collapsed": true
   },
   "outputs": [],
   "source": []
  }
 ],
 "metadata": {
  "kernelspec": {
   "display_name": "Python 3",
   "language": "python",
   "name": "python3"
  },
  "language_info": {
   "codemirror_mode": {
    "name": "ipython",
    "version": 3
   },
   "file_extension": ".py",
   "mimetype": "text/x-python",
   "name": "python",
   "nbconvert_exporter": "python",
   "pygments_lexer": "ipython3",
   "version": "3.5.2"
  }
 },
 "nbformat": 4,
 "nbformat_minor": 2
}
