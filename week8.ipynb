{
 "cells": [
  {
   "cell_type": "markdown",
   "metadata": {},
   "source": [
    "# Week 8: Text Mining\n",
    "\n",
    "### What's on this week\n",
    "1. [Loading text data](#load)\n",
    "2. [Data preprocessing and visualisation of text data](#prep)\n",
    "3. [Transformation on text data](#transform)\n",
    "4. [Document analysis](#analyse)\n",
    "\n",
    "---\n",
    "\n",
    "### Important Changelog:\n",
    "\n",
    "The practical note for this week introduces you to text document analysis and mining using Python. Python is the forefront text mining tool, with widely used text libraries like NLTK and gensim. You will learn how to preprocess text data, perform dimensionality transformation and cluster text documents based on their content. As the previous topic, the text analysis problem covered in this tutorial is **unlabelled**, but supervised/predictive text mining problems are just as common.\n",
    "\n",
    "**This tutorial notes is in experimental version. Please give us feedbacks and suggestions on how to make it better. Ask your tutor for any question and clarification.**"
   ]
  },
  {
   "cell_type": "markdown",
   "metadata": {},
   "source": [
    "## 1. Loading Text Data\n",
    "\n",
    "We will be using Federalist Papers dataset in this tutorial. This dataset contains 85 news articles selected from many newspapers. Load the dataset using `.load_json` function from pandas. It is a little bit different from the usual `csv` files we have been using so far, but rest assured there is not much difference."
   ]
  },
  {
   "cell_type": "code",
   "execution_count": 1,
   "metadata": {},
   "outputs": [
    {
     "name": "stdout",
     "output_type": "stream",
     "text": [
      "<class 'pandas.core.frame.DataFrame'>\n",
      "Int64Index: 85 entries, 0 to 9\n",
      "Data columns (total 11 columns):\n",
      "Attribution    85 non-null object\n",
      "Author         85 non-null object\n",
      "Filtered       85 non-null object\n",
      "ID             85 non-null float64\n",
      "Name           85 non-null object\n",
      "Size           85 non-null int64\n",
      "Target         73 non-null float64\n",
      "Text           85 non-null object\n",
      "Title          85 non-null object\n",
      "Truncated      85 non-null float64\n",
      "Unfiltered     85 non-null object\n",
      "dtypes: float64(3), int64(1), object(7)\n",
      "memory usage: 8.0+ KB\n"
     ]
    }
   ],
   "source": [
    "import pandas as pd\n",
    "\n",
    "df = pd.read_json('Federalistpapers.json')\n",
    "\n",
    "# as usual, explore the dataset\n",
    "df.info()"
   ]
  },
  {
   "cell_type": "markdown",
   "metadata": {},
   "source": [
    "As usual, there are a number of columns in the dataset, covering information from ID, author, name, etc. There is one column that we are really interested in, which is the `text` column. This column contains the full text of each news article. Take a peek using `.get_value()` function."
   ]
  },
  {
   "cell_type": "code",
   "execution_count": 2,
   "metadata": {},
   "outputs": [
    {
     "name": "stdout",
     "output_type": "stream",
     "text": [
      "To the People of the State of New York: AFTER an unequivocal experience of the inefficiency of the subsisting federal government, you are called upon to deliberate on a new Constitution for the United\n"
     ]
    }
   ],
   "source": [
    "# print out the first 200 characters of the first row of text column\n",
    "print(df.get_value(index=0, col='Text')[:200])"
   ]
  },
  {
   "cell_type": "markdown",
   "metadata": {},
   "source": [
    "On average, the text column contains more than 13,000 characters. In this practical, we are only dealing with 85 documents, however, in many real world text mining problems you will be dealing with a lot more documents. This itself is a challenge for text data mining, particularly in this social media era."
   ]
  },
  {
   "cell_type": "code",
   "execution_count": 3,
   "metadata": {},
   "outputs": [
    {
     "name": "stdout",
     "output_type": "stream",
     "text": [
      "13279.30588235294\n"
     ]
    }
   ],
   "source": [
    "# average length of text column\n",
    "print(df['Text'].apply(lambda x: len(x)).mean())"
   ]
  },
  {
   "cell_type": "markdown",
   "metadata": {},
   "source": [
    "## 2. Data Prepocessing"
   ]
  },
  {
   "cell_type": "markdown",
   "metadata": {},
   "source": [
    "Different from tables and numbers that we have been working with so far in the semester, text data is considered as unstructured data and require preprocessing and transformation before it can be used as training data for machine learning algorithms. There are a number of different methods to represent text data depending on the need and objective of the data mining process, including bag of words, word2vec and sequential labels. In this tutorial, we will be using bag of words representation.\n",
    "\n",
    "In bag of words method, each individual document is split into tokens (a process called tokenisation). A token can be a single word, lemmatised word, or multiple consecutive words (also called as N-gram). There are many preprocessing methods typically used in tokenisation, and we will be using the following techniques:\n",
    "1. **Lowercase**: cast each word into its lowercased version. Ensure different capitalisations are treated as the same word.\n",
    "2. **Punctuation** removal: remove all punctuation marks.\n",
    "3. **Part of speech** filtering: keep tokens with certain part-of-speech only. In particular, here we are interested in adjective, adverb, noun and verbs.\n",
    "4. **Lemmatisation**: shaving tokens into their base form. Lemmatisation is slightly different from stemming that is discussed in the lecture. Stemming usually refers to a crude heuristic process that chops off the ends of words in the hope of achieving this goal correctly most of the time, and often includes the removal of derivational affixes. Lemmatization usually refers to doing things properly with the use of a vocabulary and morphological analysis of words, normally aiming to remove inflectional endings only and to return the base or dictionary form of a word, which is known as the lemma. On the word \"ponies\" for example, stemming will return \"poni\", while lemmatisation will return \"pony\". [Source](https://nlp.stanford.edu/IR-book/html/htmledition/stemming-and-lemmatization-1.html)\n",
    "\n",
    "These tokens are then transformed into matrices, with documents as rows and tokens as columns. Each cell is a statistical value of a token in the corresponding document. This statistical value can range from simply whether the token is present in the document (0/1, binary), the frequency of appearances, document frequency, or other more complex calculations (TF-IDF, BM25, etc).\n",
    "\n",
    "To perform the operations that we want, we need the `nltk` library, which should come by default in anaconda. If this is your first time doing this tutorial, you also need to download certain packages in nltk. Follow these steps:\n",
    "1. Open your anaconda prompt, type and run `ipython`.\n",
    "2. Import nltk by typing `import nltk`.\n",
    "3. A graphical window interface will open. Go to `All Packages` tab and download `WordNet` and `stopwords` package.\n",
    "\n",
    "Once you done this, import the following modules from nltk."
   ]
  },
  {
   "cell_type": "code",
   "execution_count": 4,
   "metadata": {
    "collapsed": true
   },
   "outputs": [],
   "source": [
    "import string\n",
    "\n",
    "from nltk.corpus import stopwords as sw\n",
    "from nltk.corpus import wordnet as wn\n",
    "from nltk import wordpunct_tokenize\n",
    "from nltk import WordNetLemmatizer\n",
    "from nltk import sent_tokenize\n",
    "from nltk import pos_tag"
   ]
  },
  {
   "cell_type": "markdown",
   "metadata": {},
   "source": [
    "Before we implement our preprocessing steps, we need to load a number of different resources.\n",
    "1. Lemmatizer: We will use WordNet lemmatizer here. WordNet is a dictionary that maps english words into its lemma/base form using the part of speech tag. We will also implement the `lemmatize` function to help our lemmatisation process.\n",
    "2. Stopwords: List of words that we want to filter out. Both `nltk` and `sklearn` provide stopwords for English, but we have our own stopwords here.\n",
    "3. Punctuation: List of string punctuations (\",\", \".\", etc). Unnecessary for text analysis."
   ]
  },
  {
   "cell_type": "code",
   "execution_count": 5,
   "metadata": {
    "collapsed": true
   },
   "outputs": [],
   "source": [
    "lemmatizer = WordNetLemmatizer()\n",
    "punct = set(string.punctuation)\n",
    "\n",
    "df_stop = pd.read_json('Federaliststop.json')\n",
    "stopwords = set(df_stop['Term']).union(set(sw.words('english')))\n",
    "\n",
    "def lemmatize(token, tag):\n",
    "    tag = {\n",
    "        'N': wn.NOUN,\n",
    "        'V': wn.VERB,\n",
    "        'R': wn.ADV,\n",
    "        'J': wn.ADJ\n",
    "    }.get(tag[0], wn.NOUN)\n",
    "\n",
    "    return lemmatizer.lemmatize(token, tag)"
   ]
  },
  {
   "cell_type": "markdown",
   "metadata": {},
   "source": [
    "We will implement our preprocessing method in the `cab_tokenizer` method. The purpose of this method is to take a document string, split it into tokens and preprocess them. The method will be quite long, but I have included many comments to help you understand."
   ]
  },
  {
   "cell_type": "code",
   "execution_count": 6,
   "metadata": {
    "collapsed": true
   },
   "outputs": [],
   "source": [
    "def cab_tokenizer(document):\n",
    "    # initialize token list\n",
    "    tokens = []\n",
    "    \n",
    "    # split the document into sentences\n",
    "    for sent in sent_tokenize(document):\n",
    "        # split the document into tokens and then create part of speech tag for each token\n",
    "        for token, tag in pos_tag(wordpunct_tokenize(sent)):\n",
    "            # preprocess and remove unnecessary characters\n",
    "            token = token.lower()\n",
    "            token = token.strip()\n",
    "            token = token.strip('_')\n",
    "            token = token.strip('*')\n",
    "\n",
    "            # If stopword, ignore token and continue\n",
    "            if token in stopwords:\n",
    "                continue\n",
    "\n",
    "            # If punctuation, ignore token and continue\n",
    "            if all(char in punct for char in token):\n",
    "                continue\n",
    "\n",
    "            # Lemmatize the token and add back to the token\n",
    "            lemma = lemmatize(token, tag)\n",
    "            tokens.append(lemma)\n",
    "    \n",
    "    return tokens"
   ]
  },
  {
   "cell_type": "markdown",
   "metadata": {},
   "source": [
    "Once we have a tokenizer function, we need to *vectorise* or transform the tokens into matrices. `Sklearn` provides very convenient vectoriser classes to do this, count (which uses raw token count) and tfidf (which uses statistical function like tf-idf)."
   ]
  },
  {
   "cell_type": "code",
   "execution_count": 7,
   "metadata": {},
   "outputs": [
    {
     "name": "stdout",
     "output_type": "stream",
     "text": [
      "55892\n"
     ]
    }
   ],
   "source": [
    "from sklearn.feature_extraction.text import TfidfVectorizer\n",
    "\n",
    "# tf idf vectoriser\n",
    "tfidf_vec = TfidfVectorizer(tokenizer=cab_tokenizer, ngram_range=(1,2))\n",
    "X = tfidf_vec.fit_transform(df['Text'])\n",
    "\n",
    "# see the number of unique tokens produced by the vectorizer. Lots of them...\n",
    "print(len(tfidf_vec.get_feature_names()))"
   ]
  },
  {
   "cell_type": "markdown",
   "metadata": {},
   "source": [
    "## 2. Initial Document Analysis\n",
    "\n",
    "Using the vectorised term matrix, we now can perform text document clustering. Similar with previous week, we will use KMeans clustering procedure here. For demonstration purposes, we will set K=7 here, but you can find the \"optimal\" K using elbow method and silhouette score too."
   ]
  },
  {
   "cell_type": "code",
   "execution_count": 8,
   "metadata": {
    "collapsed": true
   },
   "outputs": [],
   "source": [
    "from sklearn.cluster import KMeans\n",
    "\n",
    "# K means clustering using the term vector\n",
    "kmeans = KMeans(n_clusters=7, random_state=42).fit(X)"
   ]
  },
  {
   "cell_type": "markdown",
   "metadata": {},
   "source": [
    "Once the clustering is performed, the next important step is to know what kind of documents are in the clusters. We can do this by looking at the terms closest to the centroid of each clusters. This gives a pretty good sense of what is the main topic of each cluster."
   ]
  },
  {
   "cell_type": "code",
   "execution_count": 9,
   "metadata": {
    "scrolled": true
   },
   "outputs": [
    {
     "name": "stdout",
     "output_type": "stream",
     "text": [
      "Top terms for cluster 0: providence, convention, congress, america, one, \n",
      "Top terms for cluster 1: state, government, power, would, may, \n",
      "Top terms for cluster 2: state, court, government, national, jurisdiction, \n",
      "Top terms for cluster 3: would, state, government, upon, nation, \n",
      "Top terms for cluster 4: department, government, legislative, may, power, \n",
      "Top terms for cluster 5: president, would, senate, power, state, \n",
      "Top terms for cluster 6: representative, state, government, election, may, \n"
     ]
    }
   ],
   "source": [
    "# function to visualise text cluster. Useful for the assignment too :)\n",
    "def visualise_text_cluster(n_clusters, cluster_centers, terms, num_word = 5):\n",
    "    # -- Params --\n",
    "    # cluster_centers: cluster centers of fitted/trained KMeans/other centroid-based clustering\n",
    "    # terms: terms used for clustering\n",
    "    # num_word: number of terms to show per cluster. Change as you please.\n",
    "    \n",
    "    # find features/terms closest to centroids\n",
    "    ordered_centroids = cluster_centers.argsort()[:, ::-1]\n",
    "    \n",
    "    for cluster in range(n_clusters):\n",
    "        print(\"Top terms for cluster {}:\".format(cluster), end=\" \")\n",
    "        for term_idx in ordered_centroids[cluster, :5]:\n",
    "            print(terms[term_idx], end=', ')\n",
    "        print()\n",
    "        \n",
    "# call it\n",
    "visualise_text_cluster(kmeans.n_clusters, kmeans.cluster_centers_, tfidf_vec.get_feature_names())"
   ]
  },
  {
   "cell_type": "markdown",
   "metadata": {},
   "source": [
    "We now know the terms characterising each cluster. Unfortunately, we can see from this visualisation that the clustering solution does not really give good splits. This is caused by unimportant terms \"clouding\" the feature/term vector, resulting in reduced clustering performance."
   ]
  },
  {
   "cell_type": "markdown",
   "metadata": {},
   "source": [
    "## 3. Feature Selection and Transformation\n",
    "\n",
    "### 3.1. Zipf's Law and Document Frequency Filtering\n",
    "\n",
    "Zipf's law is an empirical law based on distribution of phrases in many large collections of documents. It states that the frequency of a phrase will be inversely proportioned with its rank in the frequency table ([more info](https://en.wikipedia.org/wiki/Zipf%27s_law)). Zipf law can be observed when you plot document occurences vs term occurences from the vectorised terms."
   ]
  },
  {
   "cell_type": "code",
   "execution_count": 10,
   "metadata": {},
   "outputs": [
    {
     "data": {
      "image/png": "[encoded data removed]",
      "text/plain": [
       "<matplotlib.figure.Figure at 0x1d99132b748>"
      ]
     },
     "metadata": {},
     "output_type": "display_data"
    }
   ],
   "source": [
    "import seaborn as sns\n",
    "import matplotlib.pyplot as plt\n",
    "\n",
    "# visualisation of ZIPF law, a bit slow\n",
    "def visualise_zipf(document_col):\n",
    "    # Param - document_col: collection of raw document text that you want to analyse\n",
    "    \n",
    "    from sklearn.feature_extraction.text import CountVectorizer\n",
    "\n",
    "    # use count vectorizer to find TF and DF of each term\n",
    "    count_vec = CountVectorizer(tokenizer=cab_tokenizer, ngram_range=(1,2))\n",
    "    X_count = count_vec.fit_transform(df['Text'])\n",
    "    \n",
    "    # create list of terms and their tf and df\n",
    "    terms = [{'term': t, 'idx': count_vec.vocabulary_[t],\n",
    "              'tf': X_count[:, count_vec.vocabulary_[t]].sum(),\n",
    "              'df': X_count[:, count_vec.vocabulary_[t]].count_nonzero()}\n",
    "             for t in count_vec.vocabulary_]\n",
    "    \n",
    "    # sort terms by its frequency\n",
    "    terms.sort(key=lambda x: (x['tf'], x['df']), reverse=True)\n",
    "    \n",
    "    # select a few of the terms for plotting purpose\n",
    "    sel_terms = [terms[i] for i in range(0, len(terms), 30)]\n",
    "    \n",
    "    # plot term frequency ranking vs log of its DF\n",
    "    plt.plot(range(len(sel_terms)), [x['df'] for x in sel_terms])\n",
    "    plt.show()\n",
    "    \n",
    "visualise_zipf(df['Text'])"
   ]
  },
  {
   "cell_type": "markdown",
   "metadata": {},
   "source": [
    "The application of Zipf's law in text mining comes during feature selection process. Words that occured on the left side of the diagram above (high TF and high DF, too frequent) as well as the words on the right side of the diagram (low TF and low DF, too scarce) have no value to our clustering process. Filtering them and only keeping the middle ones will be beneficial, and we can do this through limiting the DF of terms that get through the vectoriser."
   ]
  },
  {
   "cell_type": "code",
   "execution_count": 11,
   "metadata": {},
   "outputs": [
    {
     "name": "stdout",
     "output_type": "stream",
     "text": [
      "8938\n"
     ]
    }
   ],
   "source": [
    "# another tf idf vectoriser\n",
    "# limit the terms produced to terms that occured at minimum 2 documents and maximum 80% of all documents\n",
    "filter_vec = TfidfVectorizer(tokenizer=cab_tokenizer, ngram_range=(1,2), min_df=2, max_df=0.8)\n",
    "X_filter = filter_vec.fit_transform(df['Text'])\n",
    "\n",
    "# see the number of unique tokens produced by the vectorizer. Reduced!\n",
    "print(len(filter_vec.get_feature_names()))"
   ]
  },
  {
   "cell_type": "markdown",
   "metadata": {},
   "source": [
    "This process greatly reduced the number of terms in our feature set. Let's try to cluster it again and see whether the clusters are more clear."
   ]
  },
  {
   "cell_type": "code",
   "execution_count": 12,
   "metadata": {},
   "outputs": [
    {
     "name": "stdout",
     "output_type": "stream",
     "text": [
      "Top terms for cluster 0: election, representative, knowledge, legislature, law, \n",
      "Top terms for cluster 1: convention, national, authority, form, republican, \n",
      "Top terms for cluster 2: upon, army, nation, national, militia, \n",
      "Top terms for cluster 3: representative, number, senate, interest, member, \n",
      "Top terms for cluster 4: president, senate, office, appointment, upon, \n",
      "Top terms for cluster 5: court, law, jurisdiction, authority, clause, \n",
      "Top terms for cluster 6: department, legislative, judiciary, legislative department, judiciary department, \n"
     ]
    }
   ],
   "source": [
    "# K means clustering using the new term vector\n",
    "kmeans_fil = KMeans(n_clusters=7, random_state=42).fit(X_filter)\n",
    "\n",
    "# visualisation\n",
    "visualise_text_cluster(kmeans_fil.n_clusters, kmeans_fil.cluster_centers_, filter_vec.get_feature_names())"
   ]
  },
  {
   "cell_type": "markdown",
   "metadata": {},
   "source": [
    "With much less terms in the feature vector, the clustering process managed to result in much more meaningful solution. You can now see clear distinction between cluster topics, like taxation (#3), military (#1), parliament (#5), etc."
   ]
  },
  {
   "cell_type": "markdown",
   "metadata": {},
   "source": [
    "### 3.2. Singular Value Decomposition\n",
    "\n",
    "Singular value decomposition is a dimensionality reduction method that works by factorizing a matrix. You have used SVD before with PCA, also a dimensionality reduction technique. In text mining, SVD is commonly used in technique called Latent Semantic Analysis, a method of analysing documents by finding the underlying meaning or concepts of words in these documents.\n",
    "\n",
    "[More info](https://en.wikipedia.org/wiki/Latent_semantic_analysis)\n",
    "\n",
    "LSA is typically used to help comparing and finding similar documents (like in document clustering and classification) and also finding synonymous/polysemous relationships between words. LSA can help in increasing speed (less features) and accuracy (comparison is now based on document concept similary instead of word similarity) of the model.\n",
    "\n",
    "In the following code, we will reduce the original `X` into only 100 components."
   ]
  },
  {
   "cell_type": "code",
   "execution_count": 21,
   "metadata": {
    "collapsed": true
   },
   "outputs": [],
   "source": [
    "from sklearn.decomposition import TruncatedSVD\n",
    "\n",
    "svd = TruncatedSVD(n_components=100, random_state=42)\n",
    "X_trans = svd.fit_transform(X)"
   ]
  },
  {
   "cell_type": "markdown",
   "metadata": {},
   "source": [
    "Each of the components produced by SVD contain weights associated with each word. The larger the weight is, the more connected the word is to the component."
   ]
  },
  {
   "cell_type": "code",
   "execution_count": 22,
   "metadata": {
    "scrolled": true
   },
   "outputs": [
    {
     "name": "stdout",
     "output_type": "stream",
     "text": [
      "Top terms in component #0 state, would, government, power, may, \n",
      "Top terms in component #1 senate, president, department, legislative, office, \n",
      "Top terms in component #2 court, law, power, judiciary, jurisdiction, \n",
      "Top terms in component #3 representative, state, election, government, year, \n",
      "Top terms in component #4 department, legislative, government, judiciary, legislative department, \n",
      "Top terms in component #5 court, jurisdiction, would, cause, state court, \n",
      "Top terms in component #6 would, legislative, representative, army, department, \n",
      "Top terms in component #7 taxation, tax, upon, revenue, merchant, \n",
      "Top terms in component #8 treaty, department, foreign, interest, trade, \n",
      "Top terms in component #9 government, state, would, national, department, \n"
     ]
    }
   ],
   "source": [
    "# sort the components by largest weighted word\n",
    "sorted_comp = svd.components_.argsort()[:, ::-1]\n",
    "terms = tfidf_vec.get_feature_names()\n",
    "\n",
    "# visualise word - concept/component relationships\n",
    "for comp_num in range(10):\n",
    "    print(\"Top terms in component #{}\".format(comp_num), end=\" \")\n",
    "    for i in sorted_comp[comp_num, :5]:\n",
    "        print(terms[i], end=\", \")\n",
    "    print()"
   ]
  },
  {
   "cell_type": "markdown",
   "metadata": {},
   "source": [
    "The transformed `X` can now be used for clustering. Let's see if it improve the quality of our clusters."
   ]
  },
  {
   "cell_type": "code",
   "execution_count": 23,
   "metadata": {},
   "outputs": [
    {
     "name": "stdout",
     "output_type": "stream",
     "text": [
      "Top terms for cluster 0: providence, convention, congress, america, one, \n",
      "Top terms for cluster 1: state, government, power, would, may, \n",
      "Top terms for cluster 2: state, court, government, national, jurisdiction, \n",
      "Top terms for cluster 3: would, state, government, upon, nation, \n",
      "Top terms for cluster 4: department, government, legislative, may, power, \n",
      "Top terms for cluster 5: president, would, senate, power, state, \n",
      "Top terms for cluster 6: representative, state, government, election, may, \n"
     ]
    }
   ],
   "source": [
    "# K-means clustering using LSA-transformed X\n",
    "svd_kmeans = KMeans(n_clusters=7, random_state=42).fit(X_trans)\n",
    "\n",
    "# transform cluster centers back to original feature space for visualisation\n",
    "original_space_centroids = svd.inverse_transform(svd_kmeans.cluster_centers_)\n",
    "\n",
    "# visualisation\n",
    "visualise_text_cluster(svd_kmeans.n_clusters, original_space_centroids, tfidf_vec.get_feature_names())"
   ]
  },
  {
   "cell_type": "markdown",
   "metadata": {},
   "source": [
    "## 4. Hierarchical Clustering\n",
    "\n",
    "Do hierarchical clustering here.\n",
    "* Different with K-means, it is more similar with decision trees.\n",
    "* Fit with X from LSA\n",
    "* Plot the dendogram\n",
    "\n",
    "*Add more explanation here*\n",
    "*Need to plot the dendogram split*"
   ]
  },
  {
   "cell_type": "code",
   "execution_count": 16,
   "metadata": {
    "collapsed": true
   },
   "outputs": [],
   "source": [
    "# import Agglomerative a.k.a. hierarchical clustering\n",
    "from sklearn.cluster import AgglomerativeClustering\n",
    "\n",
    "# fit it to X from LSA\n",
    "hier_clustering = AgglomerativeClustering(n_clusters=7).fit(X_trans)"
   ]
  },
  {
   "cell_type": "code",
   "execution_count": 17,
   "metadata": {},
   "outputs": [
    {
     "data": {
      "image/png": "[encoded data removed]",
      "text/plain": [
       "<matplotlib.figure.Figure at 0x1d992763940>"
      ]
     },
     "metadata": {},
     "output_type": "display_data"
    }
   ],
   "source": [
    "import numpy as np\n",
    "from scipy.cluster.hierarchy import dendrogram\n",
    "\n",
    "# credit to Matthew Kalada\n",
    "def plot_dendrogram(model, **kwargs):\n",
    "    # Children of hierarchical clustering\n",
    "    children = model.children_\n",
    "\n",
    "    # Distances between each pair of children\n",
    "    # Since we don't have this information, we can use a uniform one for plotting\n",
    "    distance = np.arange(children.shape[0])\n",
    "\n",
    "    # The number of observations contained in each cluster level\n",
    "    no_of_observations = np.arange(2, children.shape[0]+2)\n",
    "\n",
    "    # Create linkage matrix and then plot the dendrogram\n",
    "    linkage_matrix = np.column_stack([children, distance, no_of_observations]).astype(float)\n",
    "\n",
    "    # Plot the corresponding dendrogram\n",
    "    dendrogram(linkage_matrix, **kwargs)\n",
    "\n",
    "# run the visualisation function\n",
    "plot_dendrogram(hier_clustering, labels=hier_clustering.labels_)\n",
    "plt.show()"
   ]
  },
  {
   "cell_type": "code",
   "execution_count": null,
   "metadata": {
    "collapsed": true
   },
   "outputs": [],
   "source": []
  }
 ],
 "metadata": {
  "kernelspec": {
   "display_name": "Python 3",
   "language": "python",
   "name": "python3"
  },
  "language_info": {
   "codemirror_mode": {
    "name": "ipython",
    "version": 3
   },
   "file_extension": ".py",
   "mimetype": "text/x-python",
   "name": "python",
   "nbconvert_exporter": "python",
   "pygments_lexer": "ipython3",
   "version": "3.6.1"
  }
 },
 "nbformat": 4,
 "nbformat_minor": 2
}
